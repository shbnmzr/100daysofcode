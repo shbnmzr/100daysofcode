{
 "cells": [
  {
   "cell_type": "markdown",
   "source": [
    "## What is Machine Learning?\n",
    "The ability for a machine to learn without being explicitly programmed."
   ],
   "metadata": {
    "collapsed": false,
    "pycharm": {
     "name": "#%% md\n"
    }
   }
  },
  {
   "cell_type": "markdown",
   "source": [
    "How Machine Learning Algorithms or Models differ from regular algorithms is the $ \\bold{learning}$!\n",
    "We don't explicit program the machine, we program it to learn what to do."
   ],
   "metadata": {
    "collapsed": false,
    "pycharm": {
     "name": "#%% md\n"
    }
   }
  },
  {
   "cell_type": "markdown",
   "source": [
    "## Machine Learning Framework\n",
    "\n",
    "1. Problem Definition $ \\rightarrow $ What problem are we trying to solve?\n",
    "2. Data $ \\rightarrow $ What data do we have or need?\n",
    "3. Evaluation $ \\rightarrow $ What does success mean in this particular task?\n",
    "4. Features $ \\rightarrow $ What do we know about the data? What type of features do we have?\n",
    "5. Modelling $ \\rightarrow $ Based on our problem and data, what model should be incorporated?\n",
    "6. Experimentation $ \\rightarrow $ Trial and error until the model outputs satisfactory results"
   ],
   "metadata": {
    "collapsed": false,
    "pycharm": {
     "name": "#%% md\n"
    }
   }
  },
  {
   "cell_type": "markdown",
   "source": [
    "### 1. Problem Definition\n",
    "Identify the type of ML model you should incorporate based on the objective.\n",
    "Types of Machine Learning Problems:\n",
    "1. Supervised Learning $ \\rightarrow $  labels or \"correct\" answers are provided in the training set. The task is to find the hypothesis that maps X to Y. $ \\rightarrow $ Classification, Regression\n",
    "2. Unsupervised Learning $ \\rightarrow $ there are no labels provided, instead, the task is to find a structure or pattern in the given data. $ \\rightarrow $ Clustering, Dimensionality Reduction\n",
    "3. Transfer Learning $ \\rightarrow $ leverages what one ML model has learned before in another ML problem.\n",
    "4. Reinforcement Learning $ \\rightarrow $ having a program perform within a defined space and awarding or penalizing it for various actions."
   ],
   "metadata": {
    "collapsed": false,
    "pycharm": {
     "name": "#%% md\n"
    }
   }
  },
  {
   "cell_type": "code",
   "execution_count": null,
   "outputs": [],
   "source": [],
   "metadata": {
    "collapsed": false,
    "pycharm": {
     "name": "#%%\n"
    }
   }
  }
 ],
 "metadata": {
  "kernelspec": {
   "display_name": "Python 3",
   "language": "python",
   "name": "python3"
  },
  "language_info": {
   "codemirror_mode": {
    "name": "ipython",
    "version": 2
   },
   "file_extension": ".py",
   "mimetype": "text/x-python",
   "name": "python",
   "nbconvert_exporter": "python",
   "pygments_lexer": "ipython2",
   "version": "2.7.6"
  }
 },
 "nbformat": 4,
 "nbformat_minor": 0
}